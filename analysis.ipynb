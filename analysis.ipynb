{
 "cells": [
  {
   "cell_type": "code",
   "execution_count": 1,
   "metadata": {},
   "outputs": [],
   "source": [
    "import pandas as pd\n",
    "import matplotlib.pyplot as plt\n",
    "import numpy as np"
   ]
  },
  {
   "cell_type": "code",
   "execution_count": 2,
   "metadata": {},
   "outputs": [],
   "source": [
    "#defining all constants\n",
    "m_e = 9.10938291e-31\n",
    "m_p = 1.672621777e-27\n",
    "m_n = 1.674927351e-27\n",
    "e = 1.602176565e-19\n",
    "u = 1.660538921e-27\n",
    "h = 6.62606957e-34\n",
    "hbar = 1.054571726e-34\n",
    "E0 = 8.854187817e-12\n",
    "c = 2.99792458e8\n",
    "m_He0 = 4.002603254*u\n",
    "m_H = 1.00784*u\n",
    "m_He = 4.002602*u\n",
    "m_D = 2.014*u"
   ]
  },
  {
   "cell_type": "code",
   "execution_count": 63,
   "metadata": {},
   "outputs": [
    {
     "name": "stdout",
     "output_type": "stream",
     "text": [
      "9.108134587122158e-31 9.106902342143665e-31 9.104427256443512e-31 9.10938291e-31\n"
     ]
    }
   ],
   "source": [
    "def reduced_mass (m_atom, Z):\n",
    "    M = m_atom - Z*m_e\n",
    "    return (m_e*m_atom)/(m_atom+m_e)\n",
    "\n",
    "def wavelength (ni, nf, Z, m_atom): # ni and nf being the initial and final energy levels for each electronic transition\n",
    "    return ((8*(E0**2)*(h**3)*c)/(reduced_mass(m_atom, Z)*Z**2*e**4))*(((ni**2)*(nf**2))/(ni**2-nf**2))\n",
    "\n",
    "print(reduced_mass(m_He, 1), reduced_mass(m_D, 1), reduced_mass(m_H, 1), m_e)"
   ]
  },
  {
   "cell_type": "code",
   "execution_count": 66,
   "metadata": {},
   "outputs": [
    {
     "name": "stdout",
     "output_type": "stream",
     "text": [
      "Balmer series of He+:\n",
      "3>2 (a) 164.05054969854888 nm \n",
      "4>2 (B) 121.51892570262879 nm \n",
      "5>2 (Y) 108.49904080591857 nm \n",
      "6>2:  102.53159356159306 nm\n",
      "Lyman series of He+:\n",
      "2>1: 30.379731425657198 nm\n",
      "3>1: 25.632898390398264 nm\n",
      "4>1: 24.30378514052576 nm\n",
      "5>1: 23.73416517629469 nm\n",
      "6>1: 23.43579281407841 nm\n",
      "Paschen series of He+:\n",
      "4>3: 468.7158562815683 nm\n",
      "5>3: 320.4112298799783 nm\n",
      "6>3: 273.4175828309148 nm\n",
      "Brackett series of He+:\n",
      "5>4: 1012.6577141885732 nm\n",
      "6>4: 656.2021987941955 nm\n",
      "7>4: 541.3115781298919 nm\n",
      "8>4: 486.07570281051517 nm\n",
      "9>4: 454.29382993444307 nm\n",
      "10>4: 433.9961632236743 nm\n"
     ]
    }
   ],
   "source": [
    "#wavelengths for the three emission lines of Balmer series of He+\n",
    "He_a = wavelength(3, 2, 2, m_He)*10**9\n",
    "He_B = wavelength(4, 2, 2, m_He)*10**9 \n",
    "He_Y = wavelength(5, 2,  2, m_He)*10**9 \n",
    "He_62 = wavelength(6, 2, 2, m_He)*10**9\n",
    "\n",
    "#wavelengths of lyman series\n",
    "He_21 = wavelength(2, 1, 2, m_He)*10**9\n",
    "He_31 = wavelength(3, 1, 2, m_He)*10**9\n",
    "He_41 = wavelength(4, 1, 2, m_He)*10**9\n",
    "He_51 = wavelength(5, 1, 2, m_He)*10**9\n",
    "He_61 = wavelength(6, 1, 2, m_He)*10**9\n",
    "\n",
    "#wavelengths of paschen series\n",
    "He_43 = wavelength(4, 3, 2, m_He)*10**9\n",
    "He_53 = wavelength(5, 3, 2, m_He)*10**9\n",
    "He_63 = wavelength(6, 3, 2, m_He)*10**9\n",
    "\n",
    "#brackett series\n",
    "He_54 = wavelength(5, 4, 2,  m_He)*10**9 \n",
    "He_64 = wavelength(6, 4, 2,  m_He)*10**9 \n",
    "He_74 = wavelength(7, 4, 2,  m_He)*10**9 \n",
    "He_84 = wavelength(8, 4, 2,  m_He)*10**9 \n",
    "He_94 = wavelength(9, 4, 2,  m_He)*10**9 \n",
    "He_104 = wavelength(10, 4, 2,  m_He)*10**9 \n",
    "\n",
    "print(\"Balmer series of He+:\\n3>2 (a)\", He_a, \"nm\", \"\\n4>2 (B)\", He_B, \"nm\", \"\\n5>2 (Y)\", He_Y, \"nm\", \"\\n6>2: \", He_62, \"nm\")\n",
    "print(\"Lyman series of He+:\\n2>1: {} nm\\n3>1: {} nm\\n4>1: {} nm\\n5>1: {} nm\\n6>1: {} nm\".format(He_21, He_31, He_41, He_51, He_61))\n",
    "print(\"Paschen series of He+:\\n4>3: {} nm\\n5>3: {} nm\\n6>3: {} nm\".format(He_43, He_53, He_63))\n",
    "print(\"Brackett series of He+:\\n5>4: {} nm\\n6>4: {} nm\\n7>4: {} nm\\n8>4: {} nm\\n9>4: {} nm\\n10>4: {} nm\".format(He_54, He_64, He_74, He_84, He_94, He_104))"
   ]
  },
  {
   "cell_type": "markdown",
   "metadata": {},
   "source": []
  },
  {
   "cell_type": "code",
   "execution_count": 70,
   "metadata": {},
   "outputs": [
    {
     "name": "stdout",
     "output_type": "stream",
     "text": [
      "4052.2802771538563 2625.8776195956993 1461.1587537814385\n"
     ]
    }
   ],
   "source": [
    "H_54 = wavelength(5, 4, 1, m_H)*10**9\n",
    "H_64 = wavelength(6,4, 1, m_H)*10**9\n",
    "H_1004 = wavelength(100, 4, 1, m_H)*10**9\n",
    "\n",
    "print(H_54, H_64, H_1004)"
   ]
  },
  {
   "cell_type": "code",
   "execution_count": 39,
   "metadata": {},
   "outputs": [
    {
     "name": "stdout",
     "output_type": "stream",
     "text": [
      "He+ Balmer Series\n",
      "Alpha angle: 5.648789049411657\n",
      "Beta angle: 4.181223149014026\n",
      "Gamma angle: 3.7325618366463287\n",
      "15.817629276414804\n"
     ]
    }
   ],
   "source": [
    "#using Bragg equation to compute angles from wavelength\n",
    "def angle (ni, nf, Z, d, m_atom):\n",
    "    return (np.arcsin(wavelength(ni, nf, Z, m_atom)/d))*(360/(2*np.pi))\n",
    "\n",
    "a_angle = angle(3, 2, 2, 10**-3/600, m_He)\n",
    "B_angle = angle(4, 2, 2, 10**-3/600, m_He)\n",
    "Y_angle = angle(5, 2, 2, 10**-3/600, m_He)\n",
    "He94_angle = angle(9, 4, 2, 10**-3/600, m_He)\n",
    "\n",
    "print(\"He+ Balmer Series\\nAlpha angle: {}\\nBeta angle: {}\\nGamma angle: {}\".format(a_angle, B_angle, Y_angle))\n",
    "print(He94_angle)\n"
   ]
  },
  {
   "cell_type": "code",
   "execution_count": 40,
   "metadata": {},
   "outputs": [
    {
     "name": "stdout",
     "output_type": "stream",
     "text": [
      "H Balmer Series\n",
      "Alpha angle: 23.196243234137235\n",
      "Beta angle: 16.963604460237818\n",
      "Gamma angle: 15.099953916400457\n"
     ]
    }
   ],
   "source": [
    "Ha_angle = angle(3, 2, 1, 10**-3/600, m_H)\n",
    "HB_angle = angle(4, 2, 1, 10**-3/600, m_H)\n",
    "HY_angle = angle(5, 2, 1, 10**-3/600, m_H)\n",
    "print(\"H Balmer Series\\nAlpha angle: {}\\nBeta angle: {}\\nGamma angle: {}\".format(Ha_angle, HB_angle, HY_angle))"
   ]
  },
  {
   "cell_type": "code",
   "execution_count": 41,
   "metadata": {},
   "outputs": [
    {
     "name": "stdout",
     "output_type": "stream",
     "text": [
      "H Balmer Series\n",
      "Alpha angle: 23.18957047527365\n",
      "Beta angle: 16.958854520358535\n",
      "Gamma angle: 15.095752344632023\n"
     ]
    }
   ],
   "source": [
    "Da_angle = angle(3, 2, 1, 10**-3/600, m_D)\n",
    "DB_angle = angle(4, 2, 1, 10**-3/600, m_D)\n",
    "DY_angle = angle(5, 2, 1, 10**-3/600, m_D)\n",
    "print(\"H Balmer Series\\nAlpha angle: {}\\nBeta angle: {}\\nGamma angle: {}\".format(Da_angle, DB_angle, DY_angle))"
   ]
  },
  {
   "cell_type": "code",
   "execution_count": 43,
   "metadata": {},
   "outputs": [
    {
     "name": "stdout",
     "output_type": "stream",
     "text": [
      "H Balmer Series\n",
      "H_a: 656.4694048989248 nm\n",
      "H_B: 486.2736332584628 nm\n",
      "H_Y: 434.1728868379132 nm\n",
      "6>2: 410.293378061828 nm\n"
     ]
    }
   ],
   "source": [
    "#wavelengths of Balmer series of H\n",
    "H_a = wavelength(3, 2, 1, m_H)*10**9\n",
    "H_B = wavelength(4, 2, 1, m_H)*10**9\n",
    "H_Y = wavelength(5, 2, 1, m_H)*10**9\n",
    "H_62 = wavelength(6, 2, 1, m_H)*10**9\n",
    "print(\"H Balmer Series\\nH_a: {} nm\\nH_B: {} nm\\nH_Y: {} nm\\n6>2: {} nm\".format(H_a, H_B, H_Y, H_62))"
   ]
  },
  {
   "cell_type": "code",
   "execution_count": 44,
   "metadata": {},
   "outputs": [
    {
     "name": "stdout",
     "output_type": "stream",
     "text": [
      "D Balmer Series\n",
      "D_a: 656.2909887947865 nm\n",
      "D_B: 486.14147318132325 nm\n",
      "D_Y: 434.05488676903866 nm\n",
      "6>2: 410.1818679967416 nm\n"
     ]
    }
   ],
   "source": [
    "#wavelengths of Balmer series of D\n",
    "D_a = wavelength(3, 2, 1, m_D)*10**9\n",
    "D_B = wavelength(4, 2, 1, m_D)*10**9\n",
    "D_Y = wavelength(5, 2, 1, m_D)*10**9\n",
    "D_62 = wavelength(6, 2, 1, m_D)*10**9\n",
    "print(\"D Balmer Series\\nD_a: {} nm\\nD_B: {} nm\\nD_Y: {} nm\\n6>2: {} nm\".format(D_a, D_B, D_Y, D_62))"
   ]
  },
  {
   "cell_type": "code",
   "execution_count": 45,
   "metadata": {},
   "outputs": [
    {
     "name": "stdout",
     "output_type": "stream",
     "text": [
      "   n_initial    H_Balmer  He+_Balmer    D_Balmer\n",
      "0          3  656.469405  164.050550  656.290989\n",
      "1          4  486.273633  121.518926  486.141473\n",
      "2          5  434.172887  108.499041  434.054887\n"
     ]
    }
   ],
   "source": [
    "#compiling data into dataframe for analysis\n",
    "data = {'n_initial': [3, 4, 5],\n",
    "       'H_Balmer': [H_a, H_B, H_Y],\n",
    "       'He+_Balmer': [He_a, He_B, He_Y],\n",
    "       'D_Balmer': [D_a, D_B, D_Y]}\n",
    "df = pd.DataFrame(data)\n",
    "\n",
    "print (df)"
   ]
  },
  {
   "cell_type": "code",
   "execution_count": 46,
   "metadata": {},
   "outputs": [
    {
     "data": {
      "text/html": [
       "<div>\n",
       "<style scoped>\n",
       "    .dataframe tbody tr th:only-of-type {\n",
       "        vertical-align: middle;\n",
       "    }\n",
       "\n",
       "    .dataframe tbody tr th {\n",
       "        vertical-align: top;\n",
       "    }\n",
       "\n",
       "    .dataframe thead th {\n",
       "        text-align: right;\n",
       "    }\n",
       "</style>\n",
       "<table border=\"1\" class=\"dataframe\">\n",
       "  <thead>\n",
       "    <tr style=\"text-align: right;\">\n",
       "      <th></th>\n",
       "      <th>n_initial</th>\n",
       "      <th>H_Balmer</th>\n",
       "      <th>He+_Balmer</th>\n",
       "      <th>D_Balmer</th>\n",
       "      <th>inverse_wavelength_H</th>\n",
       "      <th>inverse_wavelength_He+</th>\n",
       "      <th>inverse_wavelength_D</th>\n",
       "      <th>nfunction</th>\n",
       "    </tr>\n",
       "  </thead>\n",
       "  <tbody>\n",
       "    <tr>\n",
       "      <th>0</th>\n",
       "      <td>3</td>\n",
       "      <td>656.469405</td>\n",
       "      <td>164.050550</td>\n",
       "      <td>656.290989</td>\n",
       "      <td>0.001523</td>\n",
       "      <td>0.006096</td>\n",
       "      <td>0.001524</td>\n",
       "      <td>0.138889</td>\n",
       "    </tr>\n",
       "    <tr>\n",
       "      <th>1</th>\n",
       "      <td>4</td>\n",
       "      <td>486.273633</td>\n",
       "      <td>121.518926</td>\n",
       "      <td>486.141473</td>\n",
       "      <td>0.002056</td>\n",
       "      <td>0.008229</td>\n",
       "      <td>0.002057</td>\n",
       "      <td>0.187500</td>\n",
       "    </tr>\n",
       "    <tr>\n",
       "      <th>2</th>\n",
       "      <td>5</td>\n",
       "      <td>434.172887</td>\n",
       "      <td>108.499041</td>\n",
       "      <td>434.054887</td>\n",
       "      <td>0.002303</td>\n",
       "      <td>0.009217</td>\n",
       "      <td>0.002304</td>\n",
       "      <td>0.210000</td>\n",
       "    </tr>\n",
       "  </tbody>\n",
       "</table>\n",
       "</div>"
      ],
      "text/plain": [
       "   n_initial    H_Balmer  He+_Balmer    D_Balmer  inverse_wavelength_H  \\\n",
       "0          3  656.469405  164.050550  656.290989              0.001523   \n",
       "1          4  486.273633  121.518926  486.141473              0.002056   \n",
       "2          5  434.172887  108.499041  434.054887              0.002303   \n",
       "\n",
       "   inverse_wavelength_He+  inverse_wavelength_D  nfunction  \n",
       "0                0.006096              0.001524   0.138889  \n",
       "1                0.008229              0.002057   0.187500  \n",
       "2                0.009217              0.002304   0.210000  "
      ]
     },
     "execution_count": 46,
     "metadata": {},
     "output_type": "execute_result"
    }
   ],
   "source": [
    "#just making the data easier to put into a graph\n",
    "def inverse_wavelength (wlength):\n",
    "    return 1/wlength\n",
    "\n",
    "def nfunction (ni, nf):\n",
    "    return (1/nf**2)-(1/ni**2)\n",
    "\n",
    "df[\"inverse_wavelength_H\"] = inverse_wavelength(df[\"H_Balmer\"])\n",
    "df[\"inverse_wavelength_He+\"] = inverse_wavelength(df[\"He+_Balmer\"])\n",
    "df[\"inverse_wavelength_D\"] = inverse_wavelength(df[\"D_Balmer\"])\n",
    "df[\"nfunction\"] = nfunction(df[\"n_initial\"], 2)\n",
    "df"
   ]
  },
  {
   "cell_type": "code",
   "execution_count": 47,
   "metadata": {
    "scrolled": false
   },
   "outputs": [
    {
     "name": "stdout",
     "output_type": "stream",
     "text": [
      "Rydberg Constant (H): 10967761705.678524 +/- 4.100305761799969e-15\n",
      "Rydberg Constant (D): 10970743348.498636 +/- 4.100305761799969e-15\n",
      "\n",
      " RD/RH: 1.0002718551788528\n"
     ]
    },
    {
     "data": {
      "image/png": "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\n",
      "text/plain": [
       "<Figure size 648x432 with 1 Axes>"
      ]
     },
     "metadata": {
      "needs_background": "light"
     },
     "output_type": "display_data"
    }
   ],
   "source": [
    "fig = plt.figure(figsize=(9,6))\n",
    "ax1 = fig.add_subplot(111)\n",
    "ax1.scatter(df[\"nfunction\"], 1000*df[\"inverse_wavelength_D\"], marker = '+', s=170, c='b', label = 'Deuterium')\n",
    "ax1.plot(df[\"nfunction\"], 1000*df[\"inverse_wavelength_D\"], c = 'b')\n",
    "ax1.scatter(df[\"nfunction\"], 1000*df[\"inverse_wavelength_H\"], marker = 'x', s=100, c='r', label = 'Hydrogen')\n",
    "ax1.plot(df[\"nfunction\"], 1000*df[\"inverse_wavelength_H\"], c = 'r')\n",
    "#ax1.scatter(4*df[\"nfunction\"], df[\"inverse_wavelength_He+\"], marker = 'x', s=100, c='g', label = 'Helium +')\n",
    "#ax1.plot(4*df[\"nfunction\"], df[\"inverse_wavelength_He+\"], c = 'g')\n",
    "ax1.tick_params(axis=\"x\", labelsize=15, direction=\"in\")\n",
    "ax1.tick_params(axis=\"y\", labelsize=15, direction=\"in\")\n",
    "plt.xlabel(r\"$\\frac{1}{n_{f}^2}$ - $\\frac{1}{n_{i}^2}$\", fontsize=25)\n",
    "plt.ylabel(\"inverse wavelength / $\\mu m^{-1}$\", fontsize=20)\n",
    "plt.legend(loc='upper left', fontsize = 15)\n",
    "\n",
    "p, V = np.polyfit(df[\"nfunction\"], 1000*df[\"inverse_wavelength_D\"], 1, cov=True)\n",
    "q, W = np.polyfit(df[\"nfunction\"], 1000*df[\"inverse_wavelength_H\"], 1, cov=True)\n",
    "#r, X = np.polyfit(4*df[\"nfunction\"], df[\"inverse_wavelength_He+\"], 1, cov=True)\n",
    "RH = q[0]*10**9\n",
    "RD = p[0]*10**9\n",
    "#RHe= r[0]*10**9\n",
    "\n",
    "print(\"Rydberg Constant (H): {} +/- {}\".format(q[0]*10**9, np.sqrt(W[0][0])))\n",
    "print(\"Rydberg Constant (D): {} +/- {}\".format(p[0]*10**9, np.sqrt(V[0][0])))\n",
    "#print(\"Rydberg Constant (He+): {} +/- {}\".format(r[0]*10**9, np.sqrt(X[0][0])))\n",
    "print(\"\\n RD/RH: {}\".format(RD/RH))"
   ]
  },
  {
   "cell_type": "markdown",
   "metadata": {},
   "source": [
    "The gradient of this graph gives the theoretical values for the Rydberg constant of each atom based on 3 transitions in the Balmer series.\n",
    "\n",
    "\n",
    "The data for H and D is so close together it's really hard to see."
   ]
  },
  {
   "cell_type": "markdown",
   "metadata": {},
   "source": [
    "\n",
    "\n",
    "This was to get theoretical values of the angles of diffraction of the 2 Na doublet lines. "
   ]
  },
  {
   "cell_type": "code",
   "execution_count": 48,
   "metadata": {},
   "outputs": [],
   "source": [
    "def spinorbit (Z, n, j, l, s):\n",
    "    return 0.01*e*((Z**4/n**3)*((j*(j+1))-(l*(l+1))-(s*(s+1))))"
   ]
  },
  {
   "cell_type": "code",
   "execution_count": 49,
   "metadata": {},
   "outputs": [
    {
     "name": "stdout",
     "output_type": "stream",
     "text": [
      "-114.32187722290607 228.64375444581214\n"
     ]
    }
   ],
   "source": [
    "#two variations in electronic transitions of sodium from spin orbit coupling\n",
    "lower = (h*c/(spinorbit(11, 3, 0.5, 1, 0.5) - spinorbit(11, 3, 0.5, 0, 0.5)))*10**9\n",
    "upper = (h*c/(spinorbit(11, 3, 1.5, 1, 0.5) - spinorbit(11, 3, 0.5, 0, 0.5)))*10**9\n",
    "print(lower, upper)"
   ]
  },
  {
   "cell_type": "code",
   "execution_count": 50,
   "metadata": {},
   "outputs": [
    {
     "name": "stdout",
     "output_type": "stream",
     "text": [
      "20.695232157403673 20.71718744268814\n"
     ]
    }
   ],
   "source": [
    "#predicted angular positions of the sodium doublet lines based on d=600 per mm\n",
    "def bragg (n, wavelength, d):\n",
    "    return np.arcsin((n*wavelength)/d)*(360/(2*np.pi))\n",
    "\n",
    "                                          \n",
    "spacing = 1/(600*1000)\n",
    "sodium1 = bragg(1, 5889.950*10**-10, spacing)\n",
    "sodium2 = bragg(1, 5895.924*10**-10, spacing)\n",
    "\n",
    "print(sodium1, sodium2)"
   ]
  },
 "metadata": {
  "kernelspec": {
   "display_name": "Python 3",
   "language": "python",
   "name": "python3"
  },
  "language_info": {
   "codemirror_mode": {
    "name": "ipython",
    "version": 3
   },
   "file_extension": ".py",
   "mimetype": "text/x-python",
   "name": "python",
   "nbconvert_exporter": "python",
   "pygments_lexer": "ipython3",
   "version": "3.8.3"
  }
 },
 "nbformat": 4,
 "nbformat_minor": 4
}
